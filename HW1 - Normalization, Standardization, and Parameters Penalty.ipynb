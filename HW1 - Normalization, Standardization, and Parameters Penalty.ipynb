{
 "cells": [
  {
   "cell_type": "code",
   "execution_count": 1,
   "id": "2000caa0",
   "metadata": {},
   "outputs": [],
   "source": [
    "# Claire Ardern \n",
    "# Intro to Machine Learning - Homework 1\n",
    "# Linear Regression with Gradient Descent - with input normalization, input standardization, and parameters penalty\n",
    "# 09/28/2022"
   ]
  },
  {
   "cell_type": "code",
   "execution_count": 2,
   "id": "0f64bb59",
   "metadata": {},
   "outputs": [],
   "source": [
    "import numpy as np\n",
    "import pandas as pd\n",
    "import matplotlib.pyplot as plt"
   ]
  },
  {
   "cell_type": "code",
   "execution_count": 3,
   "id": "65700fd8",
   "metadata": {},
   "outputs": [],
   "source": [
    "# Read in data file.\n",
    "df = pd.read_csv('./Housing.csv')\n",
    "\n",
    "# Convert binary data to numerical representation.\n",
    "df.mainroad.replace(('yes', 'no'), (1, 0), inplace=True)\n",
    "df.guestroom.replace(('yes', 'no'), (1, 0), inplace=True)\n",
    "df.basement.replace(('yes', 'no'), (1, 0), inplace=True)\n",
    "df.hotwaterheating.replace(('yes', 'no'), (1, 0), inplace=True)\n",
    "df.airconditioning.replace(('yes', 'no'), (1, 0), inplace=True)\n",
    "df.prefarea.replace(('yes', 'no'), (1, 0), inplace=True)\n",
    "\n",
    "# Divide provided data into Training Set (80%) and Validation Set (20%).\n",
    "from sklearn.model_selection import train_test_split\n",
    "np.random.seed(0)\n",
    "df_train, df_val = train_test_split(df, train_size =  0.8, test_size = 0.2)"
   ]
  },
  {
   "cell_type": "code",
   "execution_count": 4,
   "id": "485d263f",
   "metadata": {},
   "outputs": [],
   "source": [
    "# Loss Function\n",
    "\n",
    "def compute_loss(X, Y, theta):\n",
    "    \n",
    "    predictions = X.dot(theta)\n",
    "    errors = np.subtract(predictions, Y)\n",
    "    sqrErrors = np.square(errors)\n",
    "    J = 1 / (2*m) * np.sum(sqrErrors)\n",
    "    \n",
    "    return J\n",
    "    "
   ]
  },
  {
   "cell_type": "code",
   "execution_count": 5,
   "id": "a5014d14",
   "metadata": {},
   "outputs": [],
   "source": [
    "# Gradient Descent Function\n",
    "\n",
    "def gradient_descent(X, Y, theta, alpha, iterations, X_V, Y_V):\n",
    "    \n",
    "        loss_history = np.zeros(iterations)\n",
    "        loss_history_V = np.zeros(iterations)\n",
    "        \n",
    "        for i in range(iterations): \n",
    "            \n",
    "            predictions = X.dot(theta)\n",
    "            errors = np.subtract(predictions, Y)\n",
    "            sum_delta = (alpha / m) * X.transpose().dot(errors);\n",
    "            theta = theta - sum_delta;\n",
    "            loss_history[i] = compute_loss(X, Y, theta)\n",
    "            loss_history_V[i] = compute_loss(X_V, Y_V, theta)\n",
    "            \n",
    "        return theta, loss_history, loss_history_V"
   ]
  },
  {
   "cell_type": "code",
   "execution_count": 6,
   "id": "c3c9a749",
   "metadata": {},
   "outputs": [],
   "source": [
    "######################\n",
    "##### PROBLEM 1a #####\n",
    "######################\n",
    "\n",
    "# Create an array for each data set.\n",
    "area = df_train.values[:,1]\n",
    "bdr = df_train.values[:,2]\n",
    "bth = df_train.values[:,3]\n",
    "st = df_train.values[:,4]\n",
    "p = df_train.values[:,10]\n",
    "Y = df_train.values[:,0]\n",
    "\n",
    "area_V = df_val.values[:,1]\n",
    "bdr_V = df_val.values[:,2]\n",
    "bth_V = df_val.values[:,3]\n",
    "st_V = df_val.values[:,4]\n",
    "p_V = df_val.values[:,10]\n",
    "Y_V = df_val.values[:,0]\n",
    " \n",
    "# Get length of data sets.\n",
    "m = len(Y)\n",
    "m_V = len(Y_V)\n",
    "\n",
    "X_0 = np.ones((m,1))\n",
    "X_0V = np.ones((m_V,1))\n",
    "\n",
    "# Reshape arrays for 2D formatting.\n",
    "area = area.reshape(m,1)\n",
    "bdr = bdr.reshape(m,1)\n",
    "bth = bth.reshape(m,1)\n",
    "st = st.reshape(m,1)\n",
    "p = p.reshape(m,1)\n",
    "\n",
    "area_V = area_V.reshape(m_V,1)\n",
    "bdr_V = bdr_V.reshape(m_V,1)\n",
    "bth_V = bth_V.reshape(m_V,1)\n",
    "st_V = st_V.reshape(m_V,1)\n",
    "p_V = p_V.reshape(m_V,1)\n",
    "\n",
    "# Stack horizontally\n",
    "X = np.hstack((X_0, area, bdr, bth, st, p))\n",
    "\n",
    "X_V = np.hstack((X_0V, area_V, bdr_V, bth_V, st_V, p_V))\n",
    "\n",
    "# Initialize theta to zeros.\n",
    "theta = np.zeros(6)"
   ]
  },
  {
   "cell_type": "code",
   "execution_count": 7,
   "id": "7219c74e",
   "metadata": {},
   "outputs": [
    {
     "name": "stdout",
     "output_type": "stream",
     "text": [
      "Final values of theta for dataset:  [0.05830589459269215 321.0793672591885 0.18019481684073071\n",
      " 0.08120208631487572 0.11563035421100236 0.049490690175024644]\n",
      "The training loss for final values of theta using data for area, bedrooms, bathrooms, stories, parking: 6239009456415.915\n",
      "The validation loss for final values of theta using data for area, bedrooms, bathrooms, stories, parking: 6239009456415.915\n"
     ]
    },
    {
     "data": {
      "text/plain": [
       "<matplotlib.legend.Legend at 0x24ac3af5e80>"
      ]
     },
     "execution_count": 7,
     "metadata": {},
     "output_type": "execute_result"
    },
    {
     "data": {
      "image/png": "[encoded data removed]",
      "text/plain": [
       "<Figure size 432x288 with 1 Axes>"
      ]
     },
     "metadata": {
      "needs_background": "light"
     },
     "output_type": "display_data"
    }
   ],
   "source": [
    "# (1a) Calculations on Training and Validation Sets\n",
    "\n",
    "iterations = 1500\n",
    "alpha = 0.00000000001\n",
    "\n",
    "theta, loss_history, loss_history_V = gradient_descent(X, Y, theta, alpha, iterations, X_V, Y_V)\n",
    "print('Final values of theta for dataset: ', theta)\n",
    "\n",
    "loss = compute_loss(X, Y, theta)\n",
    "print('The training loss for final values of theta using data for area, bedrooms, bathrooms, stories, parking:', loss)\n",
    "\n",
    "loss_V = compute_loss(X_V, Y_V, theta)\n",
    "print('The validation loss for final values of theta using data for area, bedrooms, bathrooms, stories, parking:', loss)\n",
    "\n",
    "plt.figure()\n",
    "plt.plot(range(1, iterations+1), loss_history, color = 'red', label = \"Training Loss\")\n",
    "plt.plot(range(1, iterations+1), loss_history_V, color = 'blue', label = \"Validation Loss\")\n",
    "plt.grid()\n",
    "plt.xlabel('Iterations')\n",
    "plt.ylabel('Calculated Loss')\n",
    "plt.title('Loss over Iterations for Dataset')\n",
    "plt.legend()\n"
   ]
  },
  {
   "cell_type": "code",
   "execution_count": 8,
   "id": "7216e106",
   "metadata": {},
   "outputs": [],
   "source": [
    "######################\n",
    "##### PROBLEM 1b #####\n",
    "######################\n",
    "\n",
    "# Create an array for each data set.\n",
    "area = df_train.values[:,1]\n",
    "bdr = df_train.values[:,2]\n",
    "bth = df_train.values[:,3]\n",
    "st = df_train.values[:,4]\n",
    "main = df_train.values[:,5]\n",
    "gst = df_train.values[:,6]\n",
    "bmt = df_train.values[:,7]\n",
    "hotw = df_train.values[:,8]\n",
    "ac = df_train.values[:,9]\n",
    "p = df_train.values[:,10]\n",
    "pref = df_train.values[:,11]\n",
    "Y = df_train.values[:,0]\n",
    "\n",
    "area_V = df_val.values[:,1]\n",
    "bdr_V = df_val.values[:,2]\n",
    "bth_V = df_val.values[:,3]\n",
    "st_V = df_val.values[:,4]\n",
    "main_V = df_val.values[:,5]\n",
    "gst_V = df_val.values[:,6]\n",
    "bmt_V = df_val.values[:,7]\n",
    "hotw_V = df_val.values[:,8]\n",
    "ac_V = df_val.values[:,9]\n",
    "p_V = df_val.values[:,10]\n",
    "pref_V = df_val.values[:,11]\n",
    "Y_V = df_val.values[:,0]  \n",
    "    \n",
    "# Get length of data sets.\n",
    "m = len(Y)\n",
    "m_V = len(Y_V)\n",
    "\n",
    "X_0 = np.ones((m,1))\n",
    "X_0V = np.ones((m_V,1))\n",
    "\n",
    "# Reshape arrays for 2D formatting.\n",
    "area = area.reshape(m,1)\n",
    "bdr = bdr.reshape(m,1)\n",
    "bth = bth.reshape(m,1)\n",
    "st = st.reshape(m,1)\n",
    "main = main.reshape(m,1)\n",
    "gst = gst.reshape(m,1)\n",
    "bmt = bmt.reshape(m,1)\n",
    "hotw = hotw.reshape(m,1)\n",
    "ac = ac.reshape(m,1)\n",
    "p = p.reshape(m,1)\n",
    "pref = pref.reshape(m,1)\n",
    "\n",
    "area_V = area_V.reshape(m_V,1)\n",
    "bdr_V = bdr_V.reshape(m_V,1)\n",
    "bth_V = bth_V.reshape(m_V,1)\n",
    "st_V = st_V.reshape(m_V,1)\n",
    "main_V = main_V.reshape(m_V,1)\n",
    "gst_V = gst_V.reshape(m_V,1)\n",
    "bmt_V = bmt_V.reshape(m_V,1)\n",
    "hotw_V = hotw_V.reshape(m_V,1)\n",
    "ac_V = ac_V.reshape(m_V,1)\n",
    "p_V = p_V.reshape(m_V,1)\n",
    "pref_V = pref_V.reshape(m_V,1)\n",
    "\n",
    "# Stack horizontally\n",
    "X = np.hstack((X_0, area, bdr, bth, st, main, gst, bmt, hotw, ac, p, pref))\n",
    "\n",
    "X_V = np.hstack((X_0V, area_V, bdr_V, bth_V, st_V, main_V, gst_V, bmt_V, hotw_V, ac_V, p_V, pref_V))\n",
    "\n",
    "# Initialize theta to zeros.\n",
    "theta = np.zeros(12)"
   ]
  },
  {
   "cell_type": "code",
   "execution_count": 9,
   "id": "46a4be72",
   "metadata": {},
   "outputs": [
    {
     "name": "stdout",
     "output_type": "stream",
     "text": [
      "Final values of theta for dataset:  [0.05830589412275003 321.0793647104753 0.18019481542361263\n",
      " 0.0812020856943636 0.11563035332692483 0.05267799361038154\n",
      " 0.013073520997504553 0.022023782050397678 0.002984915004057907\n",
      " 0.024169811389566937 0.04949068979227739 0.018214563833992208]\n",
      "The training loss for final values of theta using data for area, bedrooms, bathrooms, stories, parking: 6239009263885.528\n",
      "The validation loss for final values of theta using data for area, bedrooms, bathrooms, stories, parking: 6239009263885.528\n"
     ]
    },
    {
     "data": {
      "text/plain": [
       "<matplotlib.legend.Legend at 0x24ac429e160>"
      ]
     },
     "execution_count": 9,
     "metadata": {},
     "output_type": "execute_result"
    },
    {
     "data": {
      "image/png": "[encoded data removed]",
      "text/plain": [
       "<Figure size 432x288 with 1 Axes>"
      ]
     },
     "metadata": {
      "needs_background": "light"
     },
     "output_type": "display_data"
    }
   ],
   "source": [
    "# (1b) Calculations on Training and Validation Sets\n",
    "\n",
    "iterations = 1500\n",
    "alpha = 0.00000000001\n",
    "\n",
    "theta, loss_history, loss_history_V = gradient_descent(X, Y, theta, alpha, iterations, X_V, Y_V)\n",
    "print('Final values of theta for dataset: ', theta)\n",
    "\n",
    "loss = compute_loss(X, Y, theta)\n",
    "print('The training loss for final values of theta using data for area, bedrooms, bathrooms, stories, parking:', loss)\n",
    "\n",
    "loss_V = compute_loss(X_V, Y_V, theta)\n",
    "print('The validation loss for final values of theta using data for area, bedrooms, bathrooms, stories, parking:', loss)\n",
    "\n",
    "plt.figure()\n",
    "plt.plot(range(1, iterations+1), loss_history, color = 'red', label = \"Training Loss\")\n",
    "plt.plot(range(1, iterations+1), loss_history_V, color = 'blue', label = \"Validation Loss\")\n",
    "plt.grid()\n",
    "plt.xlabel('Iterations')\n",
    "plt.ylabel('Calculated Loss')\n",
    "plt.title('Loss over Iterations for Dataset')\n",
    "plt.legend()"
   ]
  },
  {
   "cell_type": "code",
   "execution_count": 10,
   "id": "0386765b",
   "metadata": {},
   "outputs": [],
   "source": [
    "######################\n",
    "##### PROBLEM 2a #####\n",
    "######################\n",
    "\n",
    "import warnings\n",
    "warnings.filterwarnings('ignore')\n",
    "\n",
    "from sklearn.preprocessing import MinMaxScaler, StandardScaler\n",
    "N_Scaler = MinMaxScaler()\n",
    "S_Scaler = StandardScaler()\n",
    "\n",
    "num_vars = ['area','bedrooms','bathrooms','stories','parking','price']\n",
    "df_train_new = df_train[num_vars]\n",
    "df_val_new = df_val[num_vars]\n",
    "\n",
    "# (2a) For Input Normalization\n",
    "\n",
    "df_train_new[num_vars] = N_Scaler.fit_transform(df_train_new[num_vars])\n",
    "df_val_new[num_vars] = N_Scaler.fit_transform(df_val_new[num_vars])\n",
    "\n",
    "# Create an array for each data set.\n",
    "area = df_train_new.values[:,0]\n",
    "bdr = df_train_new.values[:,1]\n",
    "bth = df_train_new.values[:,2]\n",
    "st = df_train_new.values[:,3]\n",
    "p = df_train_new.values[:,4]\n",
    "Y = df_train_new.values[:,5]\n",
    "\n",
    "area_V = df_val_new.values[:,0]\n",
    "bdr_V = df_val_new.values[:,1]\n",
    "bth_V = df_val_new.values[:,2]\n",
    "st_V = df_val_new.values[:,3]\n",
    "p_V = df_val_new.values[:,4]\n",
    "Y_V = df_val_new.values[:,5]\n",
    "\n",
    "# Get length of data sets.\n",
    "m = len(Y)\n",
    "m_V = len(Y_V)\n",
    "\n",
    "X_0 = np.ones((m,1))\n",
    "X_0V = np.ones((m_V,1))\n",
    "\n",
    "# Reshape arrays for 2D formatting.\n",
    "area = area.reshape(m,1)\n",
    "bdr = bdr.reshape(m,1)\n",
    "bth = bth.reshape(m,1)\n",
    "st = st.reshape(m,1)\n",
    "p = p.reshape(m,1)\n",
    "\n",
    "area_V = area_V.reshape(m_V,1)\n",
    "bdr_V = bdr_V.reshape(m_V,1)\n",
    "bth_V = bth_V.reshape(m_V,1)\n",
    "st_V = st_V.reshape(m_V,1)\n",
    "p_V = p_V.reshape(m_V,1)\n",
    "\n",
    "# Stack horizontally\n",
    "X = np.hstack((X_0, area, bdr, bth, st, p))\n",
    "\n",
    "X_V = np.hstack((X_0V, area_V, bdr_V, bth_V, st_V, p_V))\n",
    "\n",
    "# Initialize theta to zeros.\n",
    "theta = np.zeros(6)"
   ]
  },
  {
   "cell_type": "code",
   "execution_count": 11,
   "id": "bea207f6",
   "metadata": {},
   "outputs": [
    {
     "name": "stdout",
     "output_type": "stream",
     "text": [
      "Final values of theta for dataset:  [0.03669848 0.42769442 0.09924226 0.20628218 0.13664188 0.09161803]\n",
      "The training loss for final values of theta using data for area, bedrooms, bathrooms, stories, parking: 0.006094514777945519\n",
      "The validation loss for final values of theta using data for area, bedrooms, bathrooms, stories, parking: 0.006094514777945519\n"
     ]
    },
    {
     "data": {
      "text/plain": [
       "<matplotlib.legend.Legend at 0x24ac43728e0>"
      ]
     },
     "execution_count": 11,
     "metadata": {},
     "output_type": "execute_result"
    },
    {
     "data": {
      "image/png": "[encoded data removed]",
      "text/plain": [
       "<Figure size 432x288 with 1 Axes>"
      ]
     },
     "metadata": {
      "needs_background": "light"
     },
     "output_type": "display_data"
    }
   ],
   "source": [
    "# (2a) Calculations on Training and Validation Sets with Input Normalization\n",
    "\n",
    "iterations = 2500\n",
    "alpha = 0.1\n",
    "\n",
    "theta, loss_history, loss_history_V = gradient_descent(X, Y, theta, alpha, iterations, X_V, Y_V)\n",
    "print('Final values of theta for dataset: ', theta)\n",
    "\n",
    "loss = compute_loss(X, Y, theta)\n",
    "print('The training loss for final values of theta using data for area, bedrooms, bathrooms, stories, parking:', loss)\n",
    "\n",
    "loss_V = compute_loss(X_V, Y_V, theta)\n",
    "print('The validation loss for final values of theta using data for area, bedrooms, bathrooms, stories, parking:', loss)\n",
    "\n",
    "plt.figure()\n",
    "plt.plot(range(1, iterations+1), loss_history, color = 'red', label = \"Training Loss\")\n",
    "plt.plot(range(1, iterations+1), loss_history_V, color = 'blue', label = \"Validation Loss\")\n",
    "plt.grid()\n",
    "plt.xlabel('Iterations')\n",
    "plt.ylabel('Calculated Loss')\n",
    "plt.title('Loss over Iterations for Dataset')\n",
    "plt.legend()\n"
   ]
  },
  {
   "cell_type": "code",
   "execution_count": 12,
   "id": "37104b04",
   "metadata": {},
   "outputs": [],
   "source": [
    "# (2a) For Input Standardization\n",
    "\n",
    "df_train_new[num_vars] = S_Scaler.fit_transform(df_train_new[num_vars])\n",
    "df_val_new[num_vars] = S_Scaler.fit_transform(df_val_new[num_vars])\n",
    "\n",
    "# Create an array for each data set.\n",
    "area = df_train_new.values[:,0]\n",
    "bdr = df_train_new.values[:,1]\n",
    "bth = df_train_new.values[:,2]\n",
    "st = df_train_new.values[:,3]\n",
    "p = df_train_new.values[:,4]\n",
    "Y = df_train_new.values[:,5]\n",
    "\n",
    "area_V = df_val_new.values[:,0]\n",
    "bdr_V = df_val_new.values[:,1]\n",
    "bth_V = df_val_new.values[:,2]\n",
    "st_V = df_val_new.values[:,3]\n",
    "p_V = df_val_new.values[:,4]\n",
    "Y_V = df_val_new.values[:,5]\n",
    "\n",
    "# Get length of data sets.\n",
    "m = len(Y)\n",
    "m_V = len(Y_V)\n",
    "\n",
    "X_0 = np.ones((m,1))\n",
    "X_0V = np.ones((m_V,1))\n",
    "\n",
    "# Reshape arrays for 2D formatting.\n",
    "area = area.reshape(m,1)\n",
    "bdr = bdr.reshape(m,1)\n",
    "bth = bth.reshape(m,1)\n",
    "st = st.reshape(m,1)\n",
    "p = p.reshape(m,1)\n",
    "\n",
    "area_V = area_V.reshape(m_V,1)\n",
    "bdr_V = bdr_V.reshape(m_V,1)\n",
    "bth_V = bth_V.reshape(m_V,1)\n",
    "st_V = st_V.reshape(m_V,1)\n",
    "p_V = p_V.reshape(m_V,1)\n",
    "\n",
    "# Stack horizontally\n",
    "X = np.hstack((X_0, area, bdr, bth, st, p))\n",
    "\n",
    "X_V = np.hstack((X_0V, area_V, bdr_V, bth_V, st_V, p_V))\n",
    "\n",
    "# Initialize theta to zeros.\n",
    "theta = np.zeros(6)"
   ]
  },
  {
   "cell_type": "code",
   "execution_count": 13,
   "id": "cad8c84f",
   "metadata": {},
   "outputs": [
    {
     "name": "stdout",
     "output_type": "stream",
     "text": [
      "Final values of theta for dataset:  [3.14478311e-16 3.88481823e-01 8.90638389e-02 3.04158794e-01\n",
      " 2.40439813e-01 1.60108157e-01]\n",
      "The training loss for final values of theta using data for area, bedrooms, bathrooms, stories, parking: 0.2230963235268556\n",
      "The validation loss for final values of theta using data for area, bedrooms, bathrooms, stories, parking: 0.2230963235268556\n"
     ]
    },
    {
     "data": {
      "text/plain": [
       "<matplotlib.legend.Legend at 0x24ac4764280>"
      ]
     },
     "execution_count": 13,
     "metadata": {},
     "output_type": "execute_result"
    },
    {
     "data": {
      "image/png": "[encoded data removed]",
      "text/plain": [
       "<Figure size 432x288 with 1 Axes>"
      ]
     },
     "metadata": {
      "needs_background": "light"
     },
     "output_type": "display_data"
    }
   ],
   "source": [
    "# (2a) Calculations on Training and Validation Sets with Input Standardization\n",
    "\n",
    "iterations = 2000\n",
    "alpha = 0.1\n",
    "\n",
    "theta, loss_history, loss_history_V = gradient_descent(X, Y, theta, alpha, iterations, X_V, Y_V)\n",
    "print('Final values of theta for dataset: ', theta)\n",
    "\n",
    "loss = compute_loss(X, Y, theta)\n",
    "print('The training loss for final values of theta using data for area, bedrooms, bathrooms, stories, parking:', loss)\n",
    "\n",
    "loss_V = compute_loss(X_V, Y_V, theta)\n",
    "print('The validation loss for final values of theta using data for area, bedrooms, bathrooms, stories, parking:', loss)\n",
    "\n",
    "plt.figure()\n",
    "plt.plot(range(1, iterations+1), loss_history, color = 'red', label = \"Training Loss\")\n",
    "plt.plot(range(1, iterations+1), loss_history_V, color = 'blue', label = \"Validation Loss\")\n",
    "plt.grid()\n",
    "plt.xlabel('Iterations')\n",
    "plt.ylabel('Calculated Loss')\n",
    "plt.title('Loss over Iterations for Dataset')\n",
    "plt.legend()\n"
   ]
  },
  {
   "cell_type": "code",
   "execution_count": 14,
   "id": "7fbd3417",
   "metadata": {},
   "outputs": [],
   "source": [
    "######################\n",
    "##### PROBLEM 2b #####\n",
    "######################\n",
    "\n",
    "num_vars = ['area','bedrooms','bathrooms','stories','mainroad','guestroom','basement','hotwaterheating','airconditioning','parking','prefarea','price']\n",
    "df_train_new = df_train[num_vars]\n",
    "df_val_new = df_val[num_vars]\n",
    "\n",
    "# (2b) For Input Normalization\n",
    "\n",
    "df_train_new[num_vars] = N_Scaler.fit_transform(df_train_new[num_vars])\n",
    "df_val_new[num_vars] = N_Scaler.fit_transform(df_val_new[num_vars])\n",
    "\n",
    "# Create an array for each data set.\n",
    "area = df_train_new.values[:,0]\n",
    "bdr = df_train_new.values[:,1]\n",
    "bth = df_train_new.values[:,2]\n",
    "st = df_train_new.values[:,3]\n",
    "main = df_train_new.values[:,4]\n",
    "gst = df_train_new.values[:,5]\n",
    "bmt = df_train_new.values[:,6]\n",
    "hotw = df_train_new.values[:,7]\n",
    "ac = df_train_new.values[:,8]\n",
    "p = df_train_new.values[:,9]\n",
    "pref = df_train_new.values[:,10]\n",
    "Y = df_train_new.values[:,11]\n",
    "\n",
    "area_V = df_val_new.values[:,0]\n",
    "bdr_V = df_val_new.values[:,1]\n",
    "bth_V = df_val_new.values[:,2]\n",
    "st_V = df_val_new.values[:,3]\n",
    "main_V = df_val_new.values[:,4]\n",
    "gst_V = df_val_new.values[:,5]\n",
    "bmt_V = df_val_new.values[:,6]\n",
    "hotw_V = df_val_new.values[:,7]\n",
    "ac_V = df_val_new.values[:,8]\n",
    "p_V = df_val_new.values[:,9]\n",
    "pref_V = df_val_new.values[:,10]\n",
    "Y_V = df_val_new.values[:,11]  \n",
    "    \n",
    "# Get length of data sets.\n",
    "m = len(Y)\n",
    "m_V = len(Y_V)\n",
    "\n",
    "X_0 = np.ones((m,1))\n",
    "X_0V = np.ones((m_V,1))\n",
    "\n",
    "# Reshape arrays for 2D formatting.\n",
    "area = area.reshape(m,1)\n",
    "bdr = bdr.reshape(m,1)\n",
    "bth = bth.reshape(m,1)\n",
    "st = st.reshape(m,1)\n",
    "main = main.reshape(m,1)\n",
    "gst = gst.reshape(m,1)\n",
    "bmt = bmt.reshape(m,1)\n",
    "hotw = hotw.reshape(m,1)\n",
    "ac = ac.reshape(m,1)\n",
    "p = p.reshape(m,1)\n",
    "pref = pref.reshape(m,1)\n",
    "\n",
    "area_V = area_V.reshape(m_V,1)\n",
    "bdr_V = bdr_V.reshape(m_V,1)\n",
    "bth_V = bth_V.reshape(m_V,1)\n",
    "st_V = st_V.reshape(m_V,1)\n",
    "main_V = main_V.reshape(m_V,1)\n",
    "gst_V = gst_V.reshape(m_V,1)\n",
    "bmt_V = bmt_V.reshape(m_V,1)\n",
    "hotw_V = hotw_V.reshape(m_V,1)\n",
    "ac_V = ac_V.reshape(m_V,1)\n",
    "p_V = p_V.reshape(m_V,1)\n",
    "pref_V = pref_V.reshape(m_V,1)\n",
    "\n",
    "# Stack horizontally\n",
    "X = np.hstack((X_0, area, bdr, bth, st, main, gst, bmt, hotw, ac, p, pref))\n",
    "\n",
    "X_V = np.hstack((X_0V, area_V, bdr_V, bth_V, st_V, main_V, gst_V, bmt_V, hotw_V, ac_V, p_V, pref_V))\n",
    "\n",
    "# Initialize theta to zeros.\n",
    "theta = np.zeros(12)"
   ]
  },
  {
   "cell_type": "code",
   "execution_count": 15,
   "id": "6d860824",
   "metadata": {},
   "outputs": [
    {
     "name": "stdout",
     "output_type": "stream",
     "text": [
      "Final values of theta for dataset:  [-0.00209156  0.2927237   0.06657624  0.17782484  0.11216514  0.0432791\n",
      "  0.03911179  0.02952755  0.10597747  0.07865351  0.06742557  0.06355495]\n",
      "The training loss for final values of theta using data for area, bedrooms, bathrooms, stories, parking: 0.00448997491504074\n",
      "The validation loss for final values of theta using data for area, bedrooms, bathrooms, stories, parking: 0.00448997491504074\n"
     ]
    },
    {
     "data": {
      "text/plain": [
       "<matplotlib.legend.Legend at 0x24ac47f9be0>"
      ]
     },
     "execution_count": 15,
     "metadata": {},
     "output_type": "execute_result"
    },
    {
     "data": {
      "image/png": "[encoded data removed]",
      "text/plain": [
       "<Figure size 432x288 with 1 Axes>"
      ]
     },
     "metadata": {
      "needs_background": "light"
     },
     "output_type": "display_data"
    }
   ],
   "source": [
    "# (2b) Calculations on Training and Validation Sets with Input Normalization\n",
    "\n",
    "iterations = 1500\n",
    "alpha = 0.1\n",
    "\n",
    "theta, loss_history, loss_history_V = gradient_descent(X, Y, theta, alpha, iterations, X_V, Y_V)\n",
    "print('Final values of theta for dataset: ', theta)\n",
    "\n",
    "loss = compute_loss(X, Y, theta)\n",
    "print('The training loss for final values of theta using data for area, bedrooms, bathrooms, stories, parking:', loss)\n",
    "\n",
    "loss_V = compute_loss(X_V, Y_V, theta)\n",
    "print('The validation loss for final values of theta using data for area, bedrooms, bathrooms, stories, parking:', loss)\n",
    "\n",
    "plt.figure()\n",
    "plt.plot(range(1, iterations+1), loss_history, color = 'red', label = \"Training Loss\")\n",
    "plt.plot(range(1, iterations+1), loss_history_V, color = 'blue', label = \"Validation Loss\")\n",
    "plt.grid()\n",
    "plt.xlabel('Iterations')\n",
    "plt.ylabel('Calculated Loss')\n",
    "plt.title('Loss over Iterations for Dataset')\n",
    "plt.legend()"
   ]
  },
  {
   "cell_type": "code",
   "execution_count": 16,
   "id": "dc0cd483",
   "metadata": {},
   "outputs": [],
   "source": [
    "# (2b) For Input Standardization\n",
    "\n",
    "df_train_new[num_vars] = S_Scaler.fit_transform(df_train_new[num_vars])\n",
    "df_val_new[num_vars] = S_Scaler.fit_transform(df_val_new[num_vars])\n",
    "\n",
    "# Create an array for each data set.\n",
    "area = df_train_new.values[:,0]\n",
    "bdr = df_train_new.values[:,1]\n",
    "bth = df_train_new.values[:,2]\n",
    "st = df_train_new.values[:,3]\n",
    "main = df_train_new.values[:,4]\n",
    "gst = df_train_new.values[:,5]\n",
    "bmt = df_train_new.values[:,6]\n",
    "hotw = df_train_new.values[:,7]\n",
    "ac = df_train_new.values[:,8]\n",
    "p = df_train_new.values[:,9]\n",
    "pref = df_train_new.values[:,10]\n",
    "Y = df_train_new.values[:,11]\n",
    "\n",
    "area_V = df_val_new.values[:,0]\n",
    "bdr_V = df_val_new.values[:,1]\n",
    "bth_V = df_val_new.values[:,2]\n",
    "st_V = df_val_new.values[:,3]\n",
    "main_V = df_val_new.values[:,4]\n",
    "gst_V = df_val_new.values[:,5]\n",
    "bmt_V = df_val_new.values[:,6]\n",
    "hotw_V = df_val_new.values[:,7]\n",
    "ac_V = df_val_new.values[:,8]\n",
    "p_V = df_val_new.values[:,9]\n",
    "pref_V = df_val_new.values[:,10]\n",
    "Y_V = df_val_new.values[:,11]  \n",
    "    \n",
    "# Get length of data sets.\n",
    "m = len(Y)\n",
    "m_V = len(Y_V)\n",
    "\n",
    "X_0 = np.ones((m,1))\n",
    "X_0V = np.ones((m_V,1))\n",
    "\n",
    "# Reshape arrays for 2D formatting.\n",
    "area = area.reshape(m,1)\n",
    "bdr = bdr.reshape(m,1)\n",
    "bth = bth.reshape(m,1)\n",
    "st = st.reshape(m,1)\n",
    "main = main.reshape(m,1)\n",
    "gst = gst.reshape(m,1)\n",
    "bmt = bmt.reshape(m,1)\n",
    "hotw = hotw.reshape(m,1)\n",
    "ac = ac.reshape(m,1)\n",
    "p = p.reshape(m,1)\n",
    "pref = pref.reshape(m,1)\n",
    "\n",
    "area_V = area_V.reshape(m_V,1)\n",
    "bdr_V = bdr_V.reshape(m_V,1)\n",
    "bth_V = bth_V.reshape(m_V,1)\n",
    "st_V = st_V.reshape(m_V,1)\n",
    "main_V = main_V.reshape(m_V,1)\n",
    "gst_V = gst_V.reshape(m_V,1)\n",
    "bmt_V = bmt_V.reshape(m_V,1)\n",
    "hotw_V = hotw_V.reshape(m_V,1)\n",
    "ac_V = ac_V.reshape(m_V,1)\n",
    "p_V = p_V.reshape(m_V,1)\n",
    "pref_V = pref_V.reshape(m_V,1)\n",
    "\n",
    "# Stack horizontally\n",
    "X = np.hstack((X_0, area, bdr, bth, st, main, gst, bmt, hotw, ac, p, pref))\n",
    "\n",
    "X_V = np.hstack((X_0V, area_V, bdr_V, bth_V, st_V, main_V, gst_V, bmt_V, hotw_V, ac_V, p_V, pref_V))\n",
    "\n",
    "# Initialize theta to zeros.\n",
    "theta = np.zeros(12)"
   ]
  },
  {
   "cell_type": "code",
   "execution_count": 17,
   "id": "78a58164",
   "metadata": {},
   "outputs": [
    {
     "name": "stdout",
     "output_type": "stream",
     "text": [
      "Final values of theta for dataset:  [2.91509935e-16 2.86802300e-01 5.66977841e-02 2.60175343e-01\n",
      " 2.00694996e-01 8.59288751e-02 8.77004231e-02 8.75035985e-02\n",
      " 1.26523800e-01 2.19592259e-01 1.11768608e-01 1.60270222e-01]\n",
      "The training loss for final values of theta using data for area, bedrooms, bathrooms, stories, parking: 0.16415712662209136\n",
      "The validation loss for final values of theta using data for area, bedrooms, bathrooms, stories, parking: 0.16415712662209136\n"
     ]
    },
    {
     "data": {
      "text/plain": [
       "<matplotlib.legend.Legend at 0x24ac4764940>"
      ]
     },
     "execution_count": 17,
     "metadata": {},
     "output_type": "execute_result"
    },
    {
     "data": {
      "image/png": "[encoded data removed]",
      "text/plain": [
       "<Figure size 432x288 with 1 Axes>"
      ]
     },
     "metadata": {
      "needs_background": "light"
     },
     "output_type": "display_data"
    }
   ],
   "source": [
    "# (2b) Calculations on Training and Validation Sets with Input Standardization\n",
    "\n",
    "iterations = 1500\n",
    "alpha = 0.1\n",
    "\n",
    "theta, loss_history, loss_history_V = gradient_descent(X, Y, theta, alpha, iterations, X_V, Y_V)\n",
    "print('Final values of theta for dataset: ', theta)\n",
    "\n",
    "loss = compute_loss(X, Y, theta)\n",
    "print('The training loss for final values of theta using data for area, bedrooms, bathrooms, stories, parking:', loss)\n",
    "\n",
    "loss_V = compute_loss(X_V, Y_V, theta)\n",
    "print('The validation loss for final values of theta using data for area, bedrooms, bathrooms, stories, parking:', loss)\n",
    "\n",
    "plt.figure()\n",
    "plt.plot(range(1, iterations+1), loss_history, color = 'red', label = \"Training Loss\")\n",
    "plt.plot(range(1, iterations+1), loss_history_V, color = 'blue', label = \"Validation Loss\")\n",
    "plt.grid()\n",
    "plt.xlabel('Iterations')\n",
    "plt.ylabel('Calculated Loss')\n",
    "plt.title('Loss over Iterations for Dataset')\n",
    "plt.legend()\n"
   ]
  },
  {
   "cell_type": "code",
   "execution_count": 18,
   "id": "8c4ae3ff",
   "metadata": {},
   "outputs": [],
   "source": [
    "######################\n",
    "##### PROBLEM 3a #####\n",
    "######################\n",
    "\n",
    "# New Loss Function with Parameters Penalty\n",
    "\n",
    "def compute_loss_PP(X, Y, theta, lambda_val):\n",
    "    \n",
    "    predictions = X.dot(theta)\n",
    "    errors = np.subtract(predictions, Y)\n",
    "    sqrErrors = np.square(errors)\n",
    "    sqrTheta = np.square(theta)\n",
    "    J = (1 / (2*m) * (np.sum(sqrErrors) + lambda_val * np.sum(sqrTheta)))\n",
    "    \n",
    "    return J\n",
    "\n",
    "# New Gradient Descent Function with Parameters Penalty\n",
    "\n",
    "def gradient_descent_PP(X, Y, theta, alpha, iterations, X_V, Y_V, lambda_val):\n",
    "    \n",
    "        loss_history = np.zeros(iterations)\n",
    "        loss_history_V = np.zeros(iterations)\n",
    "        \n",
    "        for i in range(iterations): \n",
    "            \n",
    "            predictions = X.dot(theta)\n",
    "            errors = np.subtract(predictions, Y)\n",
    "            sum_delta = alpha * ((1 / m) * (X.transpose().dot(errors) + np.multiply(lambda_val,(1/m)) + theta));\n",
    "            theta = theta - sum_delta;\n",
    "            loss_history[i] = compute_loss_PP(X, Y, theta, lambda_val)\n",
    "            loss_history_V[i] = compute_loss(X_V, Y_V, theta)\n",
    "            \n",
    "        return theta, loss_history, loss_history_V\n",
    "    "
   ]
  },
  {
   "cell_type": "code",
   "execution_count": 19,
   "id": "0b8b89fb",
   "metadata": {},
   "outputs": [],
   "source": [
    "# (3a) For Input Normalization\n",
    "\n",
    "df_train_new[num_vars] = N_Scaler.fit_transform(df_train_new[num_vars])\n",
    "df_val_new[num_vars] = N_Scaler.fit_transform(df_val_new[num_vars])\n",
    "\n",
    "# Create an array for each data set.\n",
    "area = df_train_new.values[:,0]\n",
    "bdr = df_train_new.values[:,1]\n",
    "bth = df_train_new.values[:,2]\n",
    "st = df_train_new.values[:,3]\n",
    "p = df_train_new.values[:,4]\n",
    "Y = df_train_new.values[:,5]\n",
    "\n",
    "area_V = df_val_new.values[:,0]\n",
    "bdr_V = df_val_new.values[:,1]\n",
    "bth_V = df_val_new.values[:,2]\n",
    "st_V = df_val_new.values[:,3]\n",
    "p_V = df_val_new.values[:,4]\n",
    "Y_V = df_val_new.values[:,5]\n",
    "\n",
    "# Get length of data sets.\n",
    "m = len(Y)\n",
    "m_V = len(Y_V)\n",
    "\n",
    "X_0 = np.ones((m,1))\n",
    "X_0V = np.ones((m_V,1))\n",
    "\n",
    "# Reshape arrays for 2D formatting.\n",
    "area = area.reshape(m,1)\n",
    "bdr = bdr.reshape(m,1)\n",
    "bth = bth.reshape(m,1)\n",
    "st = st.reshape(m,1)\n",
    "p = p.reshape(m,1)\n",
    "\n",
    "area_V = area_V.reshape(m_V,1)\n",
    "bdr_V = bdr_V.reshape(m_V,1)\n",
    "bth_V = bth_V.reshape(m_V,1)\n",
    "st_V = st_V.reshape(m_V,1)\n",
    "p_V = p_V.reshape(m_V,1)\n",
    "\n",
    "# Stack horizontally\n",
    "X = np.hstack((X_0, area, bdr, bth, st, p))\n",
    "\n",
    "X_V = np.hstack((X_0V, area_V, bdr_V, bth_V, st_V, p_V))\n",
    "\n",
    "# Initialize theta to zeros.\n",
    "theta = np.zeros(6)"
   ]
  },
  {
   "cell_type": "code",
   "execution_count": 20,
   "id": "f540d35f",
   "metadata": {},
   "outputs": [
    {
     "name": "stdout",
     "output_type": "stream",
     "text": [
      "Final values of theta for dataset:  [-0.00316723  0.25331319  0.09739069  0.1395661   0.01445204  0.0690359 ]\n",
      "The training loss for final values of theta using data for area, bedrooms, bathrooms, stories, parking: 0.07010625520856566\n",
      "The validation loss for final values of theta using data for area, bedrooms, bathrooms, stories, parking: 0.07010625520856566\n"
     ]
    },
    {
     "data": {
      "text/plain": [
       "<matplotlib.legend.Legend at 0x24ac47fab50>"
      ]
     },
     "execution_count": 20,
     "metadata": {},
     "output_type": "execute_result"
    },
    {
     "data": {
      "image/png": "[encoded data removed]",
      "text/plain": [
       "<Figure size 432x288 with 1 Axes>"
      ]
     },
     "metadata": {
      "needs_background": "light"
     },
     "output_type": "display_data"
    }
   ],
   "source": [
    "# (3a) Calculations on Training and Validation Sets with Input Normalization and Parameters Penalty\n",
    "\n",
    "iterations = 1500\n",
    "alpha = 0.1\n",
    "lambda_val = 2\n",
    "\n",
    "theta, loss_history, loss_history_V = gradient_descent_PP(X, Y, theta, alpha, iterations, X_V, Y_V, lambda_val)\n",
    "print('Final values of theta for dataset: ', theta)\n",
    "\n",
    "loss = compute_loss_PP(X, Y, theta, lambda_val)\n",
    "print('The training loss for final values of theta using data for area, bedrooms, bathrooms, stories, parking:', loss)\n",
    "\n",
    "loss_V = compute_loss(X_V, Y_V, theta)\n",
    "print('The validation loss for final values of theta using data for area, bedrooms, bathrooms, stories, parking:', loss)\n",
    "\n",
    "plt.figure()\n",
    "plt.plot(range(1, iterations+1), loss_history, color = 'red', label = \"Training Loss\")\n",
    "plt.plot(range(1, iterations+1), loss_history_V, color = 'blue', label = \"Validation Loss\")\n",
    "plt.grid()\n",
    "plt.xlabel('Iterations')\n",
    "plt.ylabel('Calculated Loss')\n",
    "plt.title('Loss over Iterations for Dataset')\n",
    "plt.legend()\n"
   ]
  },
  {
   "cell_type": "code",
   "execution_count": 21,
   "id": "15626f3f",
   "metadata": {},
   "outputs": [],
   "source": [
    "# (3a) For Input Standardization\n",
    "\n",
    "df_train_new[num_vars] = S_Scaler.fit_transform(df_train_new[num_vars])\n",
    "df_val_new[num_vars] = S_Scaler.fit_transform(df_val_new[num_vars])\n",
    "\n",
    "# Create an array for each data set.\n",
    "area = df_train_new.values[:,0]\n",
    "bdr = df_train_new.values[:,1]\n",
    "bth = df_train_new.values[:,2]\n",
    "st = df_train_new.values[:,3]\n",
    "p = df_train_new.values[:,4]\n",
    "Y = df_train_new.values[:,5]\n",
    "\n",
    "area_V = df_val_new.values[:,0]\n",
    "bdr_V = df_val_new.values[:,1]\n",
    "bth_V = df_val_new.values[:,2]\n",
    "st_V = df_val_new.values[:,3]\n",
    "p_V = df_val_new.values[:,4]\n",
    "Y_V = df_val_new.values[:,5]\n",
    "\n",
    "# Get length of data sets.\n",
    "m = len(Y)\n",
    "m_V = len(Y_V)\n",
    "\n",
    "X_0 = np.ones((m,1))\n",
    "X_0V = np.ones((m_V,1))\n",
    "\n",
    "# Reshape arrays for 2D formatting.\n",
    "area = area.reshape(m,1)\n",
    "bdr = bdr.reshape(m,1)\n",
    "bth = bth.reshape(m,1)\n",
    "st = st.reshape(m,1)\n",
    "p = p.reshape(m,1)\n",
    "\n",
    "area_V = area_V.reshape(m_V,1)\n",
    "bdr_V = bdr_V.reshape(m_V,1)\n",
    "bth_V = bth_V.reshape(m_V,1)\n",
    "st_V = st_V.reshape(m_V,1)\n",
    "p_V = p_V.reshape(m_V,1)\n",
    "\n",
    "# Stack horizontally\n",
    "X = np.hstack((X_0, area, bdr, bth, st, p))\n",
    "\n",
    "X_V = np.hstack((X_0V, area_V, bdr_V, bth_V, st_V, p_V))\n",
    "\n",
    "# Initialize theta to zeros.\n",
    "theta = np.zeros(6)"
   ]
  },
  {
   "cell_type": "code",
   "execution_count": 22,
   "id": "2654accb",
   "metadata": {},
   "outputs": [
    {
     "name": "stdout",
     "output_type": "stream",
     "text": [
      "Final values of theta for dataset:  [-1.04969244e-05  1.12528701e-01  4.17944371e-02  8.92580472e-02\n",
      "  8.87788684e-03  5.97233790e-02]\n",
      "The training loss for final values of theta using data for area, bedrooms, bathrooms, stories, parking: 0.48051566261275547\n",
      "The validation loss for final values of theta using data for area, bedrooms, bathrooms, stories, parking: 0.48051566261275547\n"
     ]
    },
    {
     "data": {
      "text/plain": [
       "<matplotlib.legend.Legend at 0x24ac4368a00>"
      ]
     },
     "execution_count": 22,
     "metadata": {},
     "output_type": "execute_result"
    },
    {
     "data": {
      "image/png": "[encoded data removed]",
      "text/plain": [
       "<Figure size 432x288 with 1 Axes>"
      ]
     },
     "metadata": {
      "needs_background": "light"
     },
     "output_type": "display_data"
    }
   ],
   "source": [
    "# (3a) Calculations on Training and Validation Sets with Input Standardization and Parameters Penalty\n",
    "\n",
    "iterations = 1500\n",
    "alpha = 0.1\n",
    "lambda_val = 2\n",
    "\n",
    "theta, loss_history, loss_history_V = gradient_descent_PP(X, Y, theta, alpha, iterations, X_V, Y_V, lambda_val)\n",
    "print('Final values of theta for dataset: ', theta)\n",
    "\n",
    "loss = compute_loss_PP(X, Y, theta, lambda_val)\n",
    "print('The training loss for final values of theta using data for area, bedrooms, bathrooms, stories, parking:', loss)\n",
    "\n",
    "loss_V = compute_loss(X_V, Y_V, theta)\n",
    "print('The validation loss for final values of theta using data for area, bedrooms, bathrooms, stories, parking:', loss)\n",
    "\n",
    "plt.figure()\n",
    "plt.plot(range(1, iterations+1), loss_history, color = 'red', label = \"Training Loss\")\n",
    "plt.plot(range(1, iterations+1), loss_history_V, color = 'blue', label = \"Validation Loss\")\n",
    "plt.grid()\n",
    "plt.xlabel('Iterations')\n",
    "plt.ylabel('Calculated Loss')\n",
    "plt.title('Loss over Iterations for Dataset')\n",
    "plt.legend()\n"
   ]
  },
  {
   "cell_type": "code",
   "execution_count": 23,
   "id": "f02b12cc",
   "metadata": {},
   "outputs": [],
   "source": [
    "######################\n",
    "##### PROBLEM 3b #####\n",
    "######################\n",
    "\n",
    "# (3b) For Input Normalization\n",
    "\n",
    "df_train_new[num_vars] = N_Scaler.fit_transform(df_train_new[num_vars])\n",
    "df_val_new[num_vars] = N_Scaler.fit_transform(df_val_new[num_vars])\n",
    "\n",
    "# Create an array for each data set.\n",
    "area = df_train_new.values[:,0]\n",
    "bdr = df_train_new.values[:,1]\n",
    "bth = df_train_new.values[:,2]\n",
    "st = df_train_new.values[:,3]\n",
    "main = df_train_new.values[:,4]\n",
    "gst = df_train_new.values[:,5]\n",
    "bmt = df_train_new.values[:,6]\n",
    "hotw = df_train_new.values[:,7]\n",
    "ac = df_train_new.values[:,8]\n",
    "p = df_train_new.values[:,9]\n",
    "pref = df_train_new.values[:,10]\n",
    "Y = df_train_new.values[:,11]\n",
    "\n",
    "area_V = df_val_new.values[:,0]\n",
    "bdr_V = df_val_new.values[:,1]\n",
    "bth_V = df_val_new.values[:,2]\n",
    "st_V = df_val_new.values[:,3]\n",
    "main_V = df_val_new.values[:,4]\n",
    "gst_V = df_val_new.values[:,5]\n",
    "bmt_V = df_val_new.values[:,6]\n",
    "hotw_V = df_val_new.values[:,7]\n",
    "ac_V = df_val_new.values[:,8]\n",
    "p_V = df_val_new.values[:,9]\n",
    "pref_V = df_val_new.values[:,10]\n",
    "Y_V = df_val_new.values[:,11]  \n",
    "    \n",
    "# Get length of data sets.\n",
    "m = len(Y)\n",
    "m_V = len(Y_V)\n",
    "\n",
    "X_0 = np.ones((m,1))\n",
    "X_0V = np.ones((m_V,1))\n",
    "\n",
    "# Reshape arrays for 2D formatting.\n",
    "area = area.reshape(m,1)\n",
    "bdr = bdr.reshape(m,1)\n",
    "bth = bth.reshape(m,1)\n",
    "st = st.reshape(m,1)\n",
    "main = main.reshape(m,1)\n",
    "gst = gst.reshape(m,1)\n",
    "bmt = bmt.reshape(m,1)\n",
    "hotw = hotw.reshape(m,1)\n",
    "ac = ac.reshape(m,1)\n",
    "p = p.reshape(m,1)\n",
    "pref = pref.reshape(m,1)\n",
    "\n",
    "area_V = area_V.reshape(m_V,1)\n",
    "bdr_V = bdr_V.reshape(m_V,1)\n",
    "bth_V = bth_V.reshape(m_V,1)\n",
    "st_V = st_V.reshape(m_V,1)\n",
    "main_V = main_V.reshape(m_V,1)\n",
    "gst_V = gst_V.reshape(m_V,1)\n",
    "bmt_V = bmt_V.reshape(m_V,1)\n",
    "hotw_V = hotw_V.reshape(m_V,1)\n",
    "ac_V = ac_V.reshape(m_V,1)\n",
    "p_V = p_V.reshape(m_V,1)\n",
    "pref_V = pref_V.reshape(m_V,1)\n",
    "\n",
    "# Stack horizontally\n",
    "X = np.hstack((X_0, area, bdr, bth, st, main, gst, bmt, hotw, ac, p, pref))\n",
    "\n",
    "X_V = np.hstack((X_0V, area_V, bdr_V, bth_V, st_V, main_V, gst_V, bmt_V, hotw_V, ac_V, p_V, pref_V))\n",
    "\n",
    "# Initialize theta to zeros.\n",
    "theta = np.zeros(12)"
   ]
  },
  {
   "cell_type": "code",
   "execution_count": 24,
   "id": "d7210214",
   "metadata": {},
   "outputs": [
    {
     "name": "stdout",
     "output_type": "stream",
     "text": [
      "Final values of theta for dataset:  [0.00269185 0.26690084 0.0663636  0.17354304 0.11053832 0.0447566\n",
      " 0.03987871 0.02903199 0.09993022 0.07948018 0.07019355 0.06490159]\n",
      "The training loss for final values of theta using data for area, bedrooms, bathrooms, stories, parking: 0.004847925820536109\n",
      "The validation loss for final values of theta using data for area, bedrooms, bathrooms, stories, parking: 0.004847925820536109\n"
     ]
    },
    {
     "data": {
      "text/plain": [
       "<matplotlib.legend.Legend at 0x24ac5999970>"
      ]
     },
     "execution_count": 24,
     "metadata": {},
     "output_type": "execute_result"
    },
    {
     "data": {
      "image/png": "[encoded data removed]",
      "text/plain": [
       "<Figure size 432x288 with 1 Axes>"
      ]
     },
     "metadata": {
      "needs_background": "light"
     },
     "output_type": "display_data"
    }
   ],
   "source": [
    "# (3b) Calculations on Training and Validation Sets with Input Normalization and Parameters Penalty\n",
    "\n",
    "iterations = 1500\n",
    "alpha = 0.1\n",
    "lambda_val = 2\n",
    "\n",
    "theta, loss_history, loss_history_V = gradient_descent_PP(X, Y, theta, alpha, iterations, X_V, Y_V, lambda_val)\n",
    "print('Final values of theta for dataset: ', theta)\n",
    "\n",
    "loss = compute_loss_PP(X, Y, theta, lambda_val)\n",
    "print('The training loss for final values of theta using data for area, bedrooms, bathrooms, stories, parking:', loss)\n",
    "\n",
    "loss_V = compute_loss(X_V, Y_V, theta)\n",
    "print('The validation loss for final values of theta using data for area, bedrooms, bathrooms, stories, parking:', loss)\n",
    "\n",
    "plt.figure()\n",
    "plt.plot(range(1, iterations+1), loss_history, color = 'red', label = \"Training Loss\")\n",
    "plt.plot(range(1, iterations+1), loss_history_V, color = 'blue', label = \"Validation Loss\")\n",
    "plt.grid()\n",
    "plt.xlabel('Iterations')\n",
    "plt.ylabel('Calculated Loss')\n",
    "plt.title('Loss over Iterations for Dataset')\n",
    "plt.legend()"
   ]
  },
  {
   "cell_type": "code",
   "execution_count": 25,
   "id": "1d066e4d",
   "metadata": {},
   "outputs": [],
   "source": [
    "# (3b) For Input Standardization\n",
    "\n",
    "df_train_new[num_vars] = S_Scaler.fit_transform(df_train_new[num_vars])\n",
    "df_val_new[num_vars] = S_Scaler.fit_transform(df_val_new[num_vars])\n",
    "\n",
    "# Create an array for each data set.\n",
    "area = df_train_new.values[:,0]\n",
    "bdr = df_train_new.values[:,1]\n",
    "bth = df_train_new.values[:,2]\n",
    "st = df_train_new.values[:,3]\n",
    "main = df_train_new.values[:,4]\n",
    "gst = df_train_new.values[:,5]\n",
    "bmt = df_train_new.values[:,6]\n",
    "hotw = df_train_new.values[:,7]\n",
    "ac = df_train_new.values[:,8]\n",
    "p = df_train_new.values[:,9]\n",
    "pref = df_train_new.values[:,10]\n",
    "Y = df_train_new.values[:,11]\n",
    "\n",
    "area_V = df_val_new.values[:,0]\n",
    "bdr_V = df_val_new.values[:,1]\n",
    "bth_V = df_val_new.values[:,2]\n",
    "st_V = df_val_new.values[:,3]\n",
    "main_V = df_val_new.values[:,4]\n",
    "gst_V = df_val_new.values[:,5]\n",
    "bmt_V = df_val_new.values[:,6]\n",
    "hotw_V = df_val_new.values[:,7]\n",
    "ac_V = df_val_new.values[:,8]\n",
    "p_V = df_val_new.values[:,9]\n",
    "pref_V = df_val_new.values[:,10]\n",
    "Y_V = df_val_new.values[:,11]  \n",
    "    \n",
    "# Get length of data sets.\n",
    "m = len(Y)\n",
    "m_V = len(Y_V)\n",
    "\n",
    "X_0 = np.ones((m,1))\n",
    "X_0V = np.ones((m_V,1))\n",
    "\n",
    "# Reshape arrays for 2D formatting.\n",
    "area = area.reshape(m,1)\n",
    "bdr = bdr.reshape(m,1)\n",
    "bth = bth.reshape(m,1)\n",
    "st = st.reshape(m,1)\n",
    "main = main.reshape(m,1)\n",
    "gst = gst.reshape(m,1)\n",
    "bmt = bmt.reshape(m,1)\n",
    "hotw = hotw.reshape(m,1)\n",
    "ac = ac.reshape(m,1)\n",
    "p = p.reshape(m,1)\n",
    "pref = pref.reshape(m,1)\n",
    "\n",
    "area_V = area_V.reshape(m_V,1)\n",
    "bdr_V = bdr_V.reshape(m_V,1)\n",
    "bth_V = bth_V.reshape(m_V,1)\n",
    "st_V = st_V.reshape(m_V,1)\n",
    "main_V = main_V.reshape(m_V,1)\n",
    "gst_V = gst_V.reshape(m_V,1)\n",
    "bmt_V = bmt_V.reshape(m_V,1)\n",
    "hotw_V = hotw_V.reshape(m_V,1)\n",
    "ac_V = ac_V.reshape(m_V,1)\n",
    "p_V = p_V.reshape(m_V,1)\n",
    "pref_V = pref_V.reshape(m_V,1)\n",
    "\n",
    "# Stack horizontally\n",
    "X = np.hstack((X_0, area, bdr, bth, st, main, gst, bmt, hotw, ac, p, pref))\n",
    "\n",
    "X_V = np.hstack((X_0V, area_V, bdr_V, bth_V, st_V, main_V, gst_V, bmt_V, hotw_V, ac_V, p_V, pref_V))\n",
    "\n",
    "# Initialize theta to zeros.\n",
    "theta = np.zeros(12)"
   ]
  },
  {
   "cell_type": "code",
   "execution_count": 26,
   "id": "2bf14dac",
   "metadata": {},
   "outputs": [
    {
     "name": "stdout",
     "output_type": "stream",
     "text": [
      "Final values of theta for dataset:  [-1.04969244e-05  2.86256845e-01  5.70678168e-02  2.59756957e-01\n",
      "  2.00311127e-01  8.59661042e-02  8.77293977e-02  8.73294261e-02\n",
      "  1.26164036e-01  2.19278851e-01  1.11844903e-01  1.60117997e-01]\n",
      "The training loss for final values of theta using data for area, bedrooms, bathrooms, stories, parking: 0.16488623869327512\n",
      "The validation loss for final values of theta using data for area, bedrooms, bathrooms, stories, parking: 0.16488623869327512\n"
     ]
    },
    {
     "data": {
      "text/plain": [
       "<matplotlib.legend.Legend at 0x24ac5a023a0>"
      ]
     },
     "execution_count": 26,
     "metadata": {},
     "output_type": "execute_result"
    },
    {
     "data": {
      "image/png": "[encoded data removed]",
      "text/plain": [
       "<Figure size 432x288 with 1 Axes>"
      ]
     },
     "metadata": {
      "needs_background": "light"
     },
     "output_type": "display_data"
    }
   ],
   "source": [
    "# (3b) Calculations on Training and Validation Sets with Input Standardization and Parameters Penalty\n",
    "\n",
    "iterations = 1500\n",
    "alpha = 0.1\n",
    "lambda_val = 2\n",
    "\n",
    "theta, loss_history, loss_history_V = gradient_descent_PP(X, Y, theta, alpha, iterations, X_V, Y_V, lambda_val)\n",
    "print('Final values of theta for dataset: ', theta)\n",
    "\n",
    "loss = compute_loss_PP(X, Y, theta, lambda_val)\n",
    "print('The training loss for final values of theta using data for area, bedrooms, bathrooms, stories, parking:', loss)\n",
    "\n",
    "loss_V = compute_loss(X_V, Y_V, theta)\n",
    "print('The validation loss for final values of theta using data for area, bedrooms, bathrooms, stories, parking:', loss)\n",
    "\n",
    "plt.figure()\n",
    "plt.plot(range(1, iterations+1), loss_history, color = 'red', label = \"Training Loss\")\n",
    "plt.plot(range(1, iterations+1), loss_history_V, color = 'blue', label = \"Validation Loss\")\n",
    "plt.grid()\n",
    "plt.xlabel('Iterations')\n",
    "plt.ylabel('Calculated Loss')\n",
    "plt.title('Loss over Iterations for Dataset')\n",
    "plt.legend()\n"
   ]
  }
 ],
 "metadata": {
  "kernelspec": {
   "display_name": "Python 3 (ipykernel)",
   "language": "python",
   "name": "python3"
  },
  "language_info": {
   "codemirror_mode": {
    "name": "ipython",
    "version": 3
   },
   "file_extension": ".py",
   "mimetype": "text/x-python",
   "name": "python",
   "nbconvert_exporter": "python",
   "pygments_lexer": "ipython3",
   "version": "3.9.12"
  }
 },
 "nbformat": 4,
 "nbformat_minor": 5
}
